{
  "nbformat": 4,
  "nbformat_minor": 0,
  "metadata": {
    "colab": {
      "name": "sample_model",
      "provenance": [],
      "collapsed_sections": []
    },
    "kernelspec": {
      "name": "python3",
      "display_name": "Python 3"
    }
  },
  "cells": [
    {
      "cell_type": "code",
      "metadata": {
        "id": "_Z_YCO18qIvK"
      },
      "source": [
        "# Data needs to be cleaned more, this model can be used as a sample test\r\n",
        "import pandas as pd\r\n",
        "import numpy as np\r\n",
        "import matplotlib.pyplot as plt\r\n",
        "from sklearn.preprocessing import StandardScaler, MinMaxScaler\r\n",
        "from sklearn.model_selection import train_test_split, cross_val_score\r\n",
        "import xgboost as xgb\r\n",
        "from xgboost import plot_importance\r\n",
        "from sklearn.metrics import explained_variance_score, mean_squared_error, r2_score\r\n",
        "from keras import models, layers, optimizers, regularizers"
      ],
      "execution_count": 144,
      "outputs": []
    },
    {
      "cell_type": "code",
      "metadata": {
        "id": "rTi04PHhr0Vo"
      },
      "source": [
        "df = pd.read_csv(\"cleaned_data.csv\")"
      ],
      "execution_count": 154,
      "outputs": []
    },
    {
      "cell_type": "code",
      "metadata": {
        "id": "MXq6MUmgqYY-"
      },
      "source": [
        "dropped = ['price']\r\n",
        "X = df.drop(dropped, axis=1)\r\n",
        "y = df.price\r\n",
        "X_train, X_test, y_train, y_test = train_test_split(X, y, test_size=0.2, random_state=123)"
      ],
      "execution_count": 156,
      "outputs": []
    },
    {
      "cell_type": "code",
      "metadata": {
        "colab": {
          "base_uri": "https://localhost:8080/"
        },
        "id": "bpyXljZgrQeh",
        "outputId": "c6a1ba5f-93b8-4d6b-dcab-46fe409d8a6c"
      },
      "source": [
        "xgb_reg = xgb.XGBRegressor()\r\n",
        "xgb_reg.fit(X_train, y_train)\r\n",
        "training_preds_xgb_reg = xgb_reg.predict(X_train)\r\n",
        "val_preds_xgb_reg = xgb_reg.predict(X_test)\r\n",
        "\r\n",
        "print(\"\\nTraining MSE:\", round(mean_squared_error(y_train, training_preds_xgb_reg),4))\r\n",
        "print(\"Validation MSE:\", round(mean_squared_error(y_test, val_preds_xgb_reg),4))\r\n",
        "print(\"\\nTraining r2:\", round(r2_score(y_train, training_preds_xgb_reg),4))\r\n",
        "print(\"Validation r2:\", round(r2_score(y_test, val_preds_xgb_reg),4))"
      ],
      "execution_count": 162,
      "outputs": [
        {
          "output_type": "stream",
          "text": [
            "[20:14:49] WARNING: /workspace/src/objective/regression_obj.cu:152: reg:linear is now deprecated in favor of reg:squarederror.\n",
            "\n",
            "Training MSE: 0.0009\n",
            "Validation MSE: 0.0009\n",
            "\n",
            "Training r2: 0.4089\n",
            "Validation r2: 0.1867\n"
          ],
          "name": "stdout"
        }
      ]
    },
    {
      "cell_type": "code",
      "metadata": {
        "colab": {
          "base_uri": "https://localhost:8080/",
          "height": 377
        },
        "id": "dCgBBOwEuciN",
        "outputId": "a342260a-2091-4429-eb18-1d08593f5d55"
      },
      "source": [
        "ft_weights_xgb_reg = pd.DataFrame(xgb_reg.feature_importances_, columns=['weight'], index=X_train.columns)\r\n",
        "ft_weights_xgb_reg.sort_values('weight', inplace=True)\r\n",
        "ft_weights_xgb_reg"
      ],
      "execution_count": 163,
      "outputs": [
        {
          "output_type": "execute_result",
          "data": {
            "text/html": [
              "<div>\n",
              "<style scoped>\n",
              "    .dataframe tbody tr th:only-of-type {\n",
              "        vertical-align: middle;\n",
              "    }\n",
              "\n",
              "    .dataframe tbody tr th {\n",
              "        vertical-align: top;\n",
              "    }\n",
              "\n",
              "    .dataframe thead th {\n",
              "        text-align: right;\n",
              "    }\n",
              "</style>\n",
              "<table border=\"1\" class=\"dataframe\">\n",
              "  <thead>\n",
              "    <tr style=\"text-align: right;\">\n",
              "      <th></th>\n",
              "      <th>weight</th>\n",
              "    </tr>\n",
              "  </thead>\n",
              "  <tbody>\n",
              "    <tr>\n",
              "      <th>host_total_listings_count</th>\n",
              "      <td>0.026945</td>\n",
              "    </tr>\n",
              "    <tr>\n",
              "      <th>number_of_reviews</th>\n",
              "      <td>0.027559</td>\n",
              "    </tr>\n",
              "    <tr>\n",
              "      <th>average_review</th>\n",
              "      <td>0.028987</td>\n",
              "    </tr>\n",
              "    <tr>\n",
              "      <th>beds</th>\n",
              "      <td>0.031189</td>\n",
              "    </tr>\n",
              "    <tr>\n",
              "      <th>host_is_superhost</th>\n",
              "      <td>0.042978</td>\n",
              "    </tr>\n",
              "    <tr>\n",
              "      <th>accommodates</th>\n",
              "      <td>0.044751</td>\n",
              "    </tr>\n",
              "    <tr>\n",
              "      <th>bedrooms</th>\n",
              "      <td>0.062754</td>\n",
              "    </tr>\n",
              "    <tr>\n",
              "      <th>bathrooms</th>\n",
              "      <td>0.064116</td>\n",
              "    </tr>\n",
              "    <tr>\n",
              "      <th>amenities</th>\n",
              "      <td>0.114739</td>\n",
              "    </tr>\n",
              "    <tr>\n",
              "      <th>minimum_nights</th>\n",
              "      <td>0.275895</td>\n",
              "    </tr>\n",
              "    <tr>\n",
              "      <th>maximum_nights</th>\n",
              "      <td>0.280089</td>\n",
              "    </tr>\n",
              "  </tbody>\n",
              "</table>\n",
              "</div>"
            ],
            "text/plain": [
              "                             weight\n",
              "host_total_listings_count  0.026945\n",
              "number_of_reviews          0.027559\n",
              "average_review             0.028987\n",
              "beds                       0.031189\n",
              "host_is_superhost          0.042978\n",
              "accommodates               0.044751\n",
              "bedrooms                   0.062754\n",
              "bathrooms                  0.064116\n",
              "amenities                  0.114739\n",
              "minimum_nights             0.275895\n",
              "maximum_nights             0.280089"
            ]
          },
          "metadata": {
            "tags": []
          },
          "execution_count": 163
        }
      ]
    },
    {
      "cell_type": "code",
      "metadata": {
        "colab": {
          "base_uri": "https://localhost:8080/",
          "height": 1000
        },
        "id": "0x8TCY3suiZC",
        "outputId": "55150971-02b6-43a5-cf31-7f6278212028"
      },
      "source": [
        "plt.figure(figsize=(8,20))\r\n",
        "plt.barh(ft_weights_xgb_reg.index, ft_weights_xgb_reg.weight, align='center') \r\n",
        "plt.title(\"Feature importances in the XGBoost model\", fontsize=14)\r\n",
        "plt.xlabel(\"Feature importance\")\r\n",
        "plt.margins(y=0.01)\r\n",
        "plt.show()"
      ],
      "execution_count": 164,
      "outputs": [
        {
          "output_type": "display_data",
          "data": {
            "image/png": "[encoded data removed]",
            "text/plain": [
              "<Figure size 576x1440 with 1 Axes>"
            ]
          },
          "metadata": {
            "tags": [],
            "needs_background": "light"
          }
        }
      ]
    },
    {
      "cell_type": "code",
      "metadata": {
        "colab": {
          "base_uri": "https://localhost:8080/"
        },
        "id": "QJ2DPN1TvfdF",
        "outputId": "b4cd63e0-4e02-4912-d759-90fc65a3aa27"
      },
      "source": [
        "# Building the model\r\n",
        "nn2 = models.Sequential()\r\n",
        "nn2.add(layers.Dense(128, input_shape=(X_train.shape[1],), activation='relu'))\r\n",
        "nn2.add(layers.Dense(256, activation='relu'))\r\n",
        "nn2.add(layers.Dense(256, activation='relu'))\r\n",
        "nn2.add(layers.Dense(1, activation='linear'))\r\n",
        "\r\n",
        "# Compiling the model\r\n",
        "nn2.compile(loss='mean_squared_error',\r\n",
        "            optimizer='adam',\r\n",
        "            metrics=['mean_squared_error'])\r\n",
        "\r\n",
        "# Model summary\r\n",
        "print(nn2.summary())"
      ],
      "execution_count": 151,
      "outputs": [
        {
          "output_type": "stream",
          "text": [
            "Model: \"sequential_6\"\n",
            "_________________________________________________________________\n",
            "Layer (type)                 Output Shape              Param #   \n",
            "=================================================================\n",
            "dense_24 (Dense)             (None, 128)               1408      \n",
            "_________________________________________________________________\n",
            "dense_25 (Dense)             (None, 256)               33024     \n",
            "_________________________________________________________________\n",
            "dense_26 (Dense)             (None, 256)               65792     \n",
            "_________________________________________________________________\n",
            "dense_27 (Dense)             (None, 1)                 257       \n",
            "=================================================================\n",
            "Total params: 100,481\n",
            "Trainable params: 100,481\n",
            "Non-trainable params: 0\n",
            "_________________________________________________________________\n",
            "None\n"
          ],
          "name": "stdout"
        }
      ]
    },
    {
      "cell_type": "code",
      "metadata": {
        "colab": {
          "base_uri": "https://localhost:8080/"
        },
        "id": "7HNvM5kxvk1N",
        "outputId": "fd376e11-32e4-46db-e29d-8d605b028bca"
      },
      "source": [
        "nn2_history = nn2.fit(X_train,\r\n",
        "                  y_train,\r\n",
        "                  epochs=100,\r\n",
        "                  batch_size=256,\r\n",
        "                  validation_split = 0.1)"
      ],
      "execution_count": 152,
      "outputs": [
        {
          "output_type": "stream",
          "text": [
            "Epoch 1/100\n",
            "19/19 [==============================] - 1s 18ms/step - loss: 0.0056 - mean_squared_error: 0.0056 - val_loss: 0.0024 - val_mean_squared_error: 0.0024\n",
            "Epoch 2/100\n",
            "19/19 [==============================] - 0s 9ms/step - loss: 0.0021 - mean_squared_error: 0.0021 - val_loss: 0.0023 - val_mean_squared_error: 0.0023\n",
            "Epoch 3/100\n",
            "19/19 [==============================] - 0s 9ms/step - loss: 0.0021 - mean_squared_error: 0.0021 - val_loss: 0.0023 - val_mean_squared_error: 0.0023\n",
            "Epoch 4/100\n",
            "19/19 [==============================] - 0s 9ms/step - loss: 0.0012 - mean_squared_error: 0.0012 - val_loss: 0.0022 - val_mean_squared_error: 0.0022\n",
            "Epoch 5/100\n",
            "19/19 [==============================] - 0s 9ms/step - loss: 0.0011 - mean_squared_error: 0.0011 - val_loss: 0.0022 - val_mean_squared_error: 0.0022\n",
            "Epoch 6/100\n",
            "19/19 [==============================] - 0s 9ms/step - loss: 0.0012 - mean_squared_error: 0.0012 - val_loss: 0.0023 - val_mean_squared_error: 0.0023\n",
            "Epoch 7/100\n",
            "19/19 [==============================] - 0s 8ms/step - loss: 0.0013 - mean_squared_error: 0.0013 - val_loss: 0.0023 - val_mean_squared_error: 0.0023\n",
            "Epoch 8/100\n",
            "19/19 [==============================] - 0s 9ms/step - loss: 8.7214e-04 - mean_squared_error: 8.7214e-04 - val_loss: 0.0023 - val_mean_squared_error: 0.0023\n",
            "Epoch 9/100\n",
            "19/19 [==============================] - 0s 8ms/step - loss: 0.0013 - mean_squared_error: 0.0013 - val_loss: 0.0023 - val_mean_squared_error: 0.0023\n",
            "Epoch 10/100\n",
            "19/19 [==============================] - 0s 9ms/step - loss: 0.0017 - mean_squared_error: 0.0017 - val_loss: 0.0023 - val_mean_squared_error: 0.0023\n",
            "Epoch 11/100\n",
            "19/19 [==============================] - 0s 8ms/step - loss: 0.0015 - mean_squared_error: 0.0015 - val_loss: 0.0023 - val_mean_squared_error: 0.0023\n",
            "Epoch 12/100\n",
            "19/19 [==============================] - 0s 9ms/step - loss: 0.0024 - mean_squared_error: 0.0024 - val_loss: 0.0023 - val_mean_squared_error: 0.0023\n",
            "Epoch 13/100\n",
            "19/19 [==============================] - 0s 9ms/step - loss: 8.6074e-04 - mean_squared_error: 8.6074e-04 - val_loss: 0.0023 - val_mean_squared_error: 0.0023\n",
            "Epoch 14/100\n",
            "19/19 [==============================] - 0s 9ms/step - loss: 0.0013 - mean_squared_error: 0.0013 - val_loss: 0.0023 - val_mean_squared_error: 0.0023\n",
            "Epoch 15/100\n",
            "19/19 [==============================] - 0s 9ms/step - loss: 0.0015 - mean_squared_error: 0.0015 - val_loss: 0.0023 - val_mean_squared_error: 0.0023\n",
            "Epoch 16/100\n",
            "19/19 [==============================] - 0s 9ms/step - loss: 8.2464e-04 - mean_squared_error: 8.2464e-04 - val_loss: 0.0023 - val_mean_squared_error: 0.0023\n",
            "Epoch 17/100\n",
            "19/19 [==============================] - 0s 9ms/step - loss: 8.9165e-04 - mean_squared_error: 8.9165e-04 - val_loss: 0.0024 - val_mean_squared_error: 0.0024\n",
            "Epoch 18/100\n",
            "19/19 [==============================] - 0s 9ms/step - loss: 6.5438e-04 - mean_squared_error: 6.5438e-04 - val_loss: 0.0023 - val_mean_squared_error: 0.0023\n",
            "Epoch 19/100\n",
            "19/19 [==============================] - 0s 9ms/step - loss: 7.4033e-04 - mean_squared_error: 7.4033e-04 - val_loss: 0.0024 - val_mean_squared_error: 0.0024\n",
            "Epoch 20/100\n",
            "19/19 [==============================] - 0s 9ms/step - loss: 0.0014 - mean_squared_error: 0.0014 - val_loss: 0.0024 - val_mean_squared_error: 0.0024\n",
            "Epoch 21/100\n",
            "19/19 [==============================] - 0s 10ms/step - loss: 8.3734e-04 - mean_squared_error: 8.3734e-04 - val_loss: 0.0024 - val_mean_squared_error: 0.0024\n",
            "Epoch 22/100\n",
            "19/19 [==============================] - 0s 9ms/step - loss: 6.0976e-04 - mean_squared_error: 6.0976e-04 - val_loss: 0.0024 - val_mean_squared_error: 0.0024\n",
            "Epoch 23/100\n",
            "19/19 [==============================] - 0s 9ms/step - loss: 0.0012 - mean_squared_error: 0.0012 - val_loss: 0.0024 - val_mean_squared_error: 0.0024\n",
            "Epoch 24/100\n",
            "19/19 [==============================] - 0s 9ms/step - loss: 0.0013 - mean_squared_error: 0.0013 - val_loss: 0.0024 - val_mean_squared_error: 0.0024\n",
            "Epoch 25/100\n",
            "19/19 [==============================] - 0s 9ms/step - loss: 0.0017 - mean_squared_error: 0.0017 - val_loss: 0.0024 - val_mean_squared_error: 0.0024\n",
            "Epoch 26/100\n",
            "19/19 [==============================] - 0s 8ms/step - loss: 9.9543e-04 - mean_squared_error: 9.9543e-04 - val_loss: 0.0024 - val_mean_squared_error: 0.0024\n",
            "Epoch 27/100\n",
            "19/19 [==============================] - 0s 9ms/step - loss: 0.0014 - mean_squared_error: 0.0014 - val_loss: 0.0024 - val_mean_squared_error: 0.0024\n",
            "Epoch 28/100\n",
            "19/19 [==============================] - 0s 9ms/step - loss: 0.0012 - mean_squared_error: 0.0012 - val_loss: 0.0024 - val_mean_squared_error: 0.0024\n",
            "Epoch 29/100\n",
            "19/19 [==============================] - 0s 9ms/step - loss: 0.0017 - mean_squared_error: 0.0017 - val_loss: 0.0024 - val_mean_squared_error: 0.0024\n",
            "Epoch 30/100\n",
            "19/19 [==============================] - 0s 9ms/step - loss: 0.0012 - mean_squared_error: 0.0012 - val_loss: 0.0024 - val_mean_squared_error: 0.0024\n",
            "Epoch 31/100\n",
            "19/19 [==============================] - 0s 9ms/step - loss: 0.0012 - mean_squared_error: 0.0012 - val_loss: 0.0024 - val_mean_squared_error: 0.0024\n",
            "Epoch 32/100\n",
            "19/19 [==============================] - 0s 9ms/step - loss: 0.0011 - mean_squared_error: 0.0011 - val_loss: 0.0025 - val_mean_squared_error: 0.0025\n",
            "Epoch 33/100\n",
            "19/19 [==============================] - 0s 9ms/step - loss: 0.0014 - mean_squared_error: 0.0014 - val_loss: 0.0025 - val_mean_squared_error: 0.0025\n",
            "Epoch 34/100\n",
            "19/19 [==============================] - 0s 9ms/step - loss: 0.0012 - mean_squared_error: 0.0012 - val_loss: 0.0025 - val_mean_squared_error: 0.0025\n",
            "Epoch 35/100\n",
            "19/19 [==============================] - 0s 9ms/step - loss: 0.0011 - mean_squared_error: 0.0011 - val_loss: 0.0025 - val_mean_squared_error: 0.0025\n",
            "Epoch 36/100\n",
            "19/19 [==============================] - 0s 9ms/step - loss: 9.7543e-04 - mean_squared_error: 9.7543e-04 - val_loss: 0.0026 - val_mean_squared_error: 0.0026\n",
            "Epoch 37/100\n",
            "19/19 [==============================] - 0s 9ms/step - loss: 0.0010 - mean_squared_error: 0.0010 - val_loss: 0.0025 - val_mean_squared_error: 0.0025\n",
            "Epoch 38/100\n",
            "19/19 [==============================] - 0s 9ms/step - loss: 0.0011 - mean_squared_error: 0.0011 - val_loss: 0.0025 - val_mean_squared_error: 0.0025\n",
            "Epoch 39/100\n",
            "19/19 [==============================] - 0s 9ms/step - loss: 0.0014 - mean_squared_error: 0.0014 - val_loss: 0.0025 - val_mean_squared_error: 0.0025\n",
            "Epoch 40/100\n",
            "19/19 [==============================] - 0s 9ms/step - loss: 0.0010 - mean_squared_error: 0.0010 - val_loss: 0.0025 - val_mean_squared_error: 0.0025\n",
            "Epoch 41/100\n",
            "19/19 [==============================] - 0s 9ms/step - loss: 8.4902e-04 - mean_squared_error: 8.4902e-04 - val_loss: 0.0025 - val_mean_squared_error: 0.0025\n",
            "Epoch 42/100\n",
            "19/19 [==============================] - 0s 9ms/step - loss: 0.0016 - mean_squared_error: 0.0016 - val_loss: 0.0026 - val_mean_squared_error: 0.0026\n",
            "Epoch 43/100\n",
            "19/19 [==============================] - 0s 9ms/step - loss: 9.9186e-04 - mean_squared_error: 9.9186e-04 - val_loss: 0.0026 - val_mean_squared_error: 0.0026\n",
            "Epoch 44/100\n",
            "19/19 [==============================] - 0s 9ms/step - loss: 8.0251e-04 - mean_squared_error: 8.0251e-04 - val_loss: 0.0027 - val_mean_squared_error: 0.0027\n",
            "Epoch 45/100\n",
            "19/19 [==============================] - 0s 9ms/step - loss: 0.0014 - mean_squared_error: 0.0014 - val_loss: 0.0026 - val_mean_squared_error: 0.0026\n",
            "Epoch 46/100\n",
            "19/19 [==============================] - 0s 9ms/step - loss: 0.0014 - mean_squared_error: 0.0014 - val_loss: 0.0025 - val_mean_squared_error: 0.0025\n",
            "Epoch 47/100\n",
            "19/19 [==============================] - 0s 8ms/step - loss: 9.1335e-04 - mean_squared_error: 9.1335e-04 - val_loss: 0.0026 - val_mean_squared_error: 0.0026\n",
            "Epoch 48/100\n",
            "19/19 [==============================] - 0s 8ms/step - loss: 0.0014 - mean_squared_error: 0.0014 - val_loss: 0.0026 - val_mean_squared_error: 0.0026\n",
            "Epoch 49/100\n",
            "19/19 [==============================] - 0s 9ms/step - loss: 0.0014 - mean_squared_error: 0.0014 - val_loss: 0.0026 - val_mean_squared_error: 0.0026\n",
            "Epoch 50/100\n",
            "19/19 [==============================] - 0s 9ms/step - loss: 0.0011 - mean_squared_error: 0.0011 - val_loss: 0.0027 - val_mean_squared_error: 0.0027\n",
            "Epoch 51/100\n",
            "19/19 [==============================] - 0s 9ms/step - loss: 0.0011 - mean_squared_error: 0.0011 - val_loss: 0.0027 - val_mean_squared_error: 0.0027\n",
            "Epoch 52/100\n",
            "19/19 [==============================] - 0s 9ms/step - loss: 0.0015 - mean_squared_error: 0.0015 - val_loss: 0.0027 - val_mean_squared_error: 0.0027\n",
            "Epoch 53/100\n",
            "19/19 [==============================] - 0s 8ms/step - loss: 0.0012 - mean_squared_error: 0.0012 - val_loss: 0.0027 - val_mean_squared_error: 0.0027\n",
            "Epoch 54/100\n",
            "19/19 [==============================] - 0s 8ms/step - loss: 0.0017 - mean_squared_error: 0.0017 - val_loss: 0.0026 - val_mean_squared_error: 0.0026\n",
            "Epoch 55/100\n",
            "19/19 [==============================] - 0s 9ms/step - loss: 0.0012 - mean_squared_error: 0.0012 - val_loss: 0.0027 - val_mean_squared_error: 0.0027\n",
            "Epoch 56/100\n",
            "19/19 [==============================] - 0s 9ms/step - loss: 8.4145e-04 - mean_squared_error: 8.4145e-04 - val_loss: 0.0027 - val_mean_squared_error: 0.0027\n",
            "Epoch 57/100\n",
            "19/19 [==============================] - 0s 9ms/step - loss: 0.0013 - mean_squared_error: 0.0013 - val_loss: 0.0026 - val_mean_squared_error: 0.0026\n",
            "Epoch 58/100\n",
            "19/19 [==============================] - 0s 9ms/step - loss: 0.0013 - mean_squared_error: 0.0013 - val_loss: 0.0028 - val_mean_squared_error: 0.0028\n",
            "Epoch 59/100\n",
            "19/19 [==============================] - 0s 9ms/step - loss: 9.8687e-04 - mean_squared_error: 9.8687e-04 - val_loss: 0.0027 - val_mean_squared_error: 0.0027\n",
            "Epoch 60/100\n",
            "19/19 [==============================] - 0s 9ms/step - loss: 8.9546e-04 - mean_squared_error: 8.9546e-04 - val_loss: 0.0027 - val_mean_squared_error: 0.0027\n",
            "Epoch 61/100\n",
            "19/19 [==============================] - 0s 9ms/step - loss: 0.0018 - mean_squared_error: 0.0018 - val_loss: 0.0027 - val_mean_squared_error: 0.0027\n",
            "Epoch 62/100\n",
            "19/19 [==============================] - 0s 9ms/step - loss: 0.0011 - mean_squared_error: 0.0011 - val_loss: 0.0028 - val_mean_squared_error: 0.0028\n",
            "Epoch 63/100\n",
            "19/19 [==============================] - 0s 9ms/step - loss: 0.0011 - mean_squared_error: 0.0011 - val_loss: 0.0028 - val_mean_squared_error: 0.0028\n",
            "Epoch 64/100\n",
            "19/19 [==============================] - 0s 8ms/step - loss: 0.0010 - mean_squared_error: 0.0010 - val_loss: 0.0026 - val_mean_squared_error: 0.0026\n",
            "Epoch 65/100\n",
            "19/19 [==============================] - 0s 9ms/step - loss: 7.5467e-04 - mean_squared_error: 7.5467e-04 - val_loss: 0.0028 - val_mean_squared_error: 0.0028\n",
            "Epoch 66/100\n",
            "19/19 [==============================] - 0s 9ms/step - loss: 0.0016 - mean_squared_error: 0.0016 - val_loss: 0.0027 - val_mean_squared_error: 0.0027\n",
            "Epoch 67/100\n",
            "19/19 [==============================] - 0s 9ms/step - loss: 0.0014 - mean_squared_error: 0.0014 - val_loss: 0.0028 - val_mean_squared_error: 0.0028\n",
            "Epoch 68/100\n",
            "19/19 [==============================] - 0s 9ms/step - loss: 0.0010 - mean_squared_error: 0.0010 - val_loss: 0.0027 - val_mean_squared_error: 0.0027\n",
            "Epoch 69/100\n",
            "19/19 [==============================] - 0s 9ms/step - loss: 8.4024e-04 - mean_squared_error: 8.4024e-04 - val_loss: 0.0027 - val_mean_squared_error: 0.0027\n",
            "Epoch 70/100\n",
            "19/19 [==============================] - 0s 9ms/step - loss: 0.0012 - mean_squared_error: 0.0012 - val_loss: 0.0028 - val_mean_squared_error: 0.0028\n",
            "Epoch 71/100\n",
            "19/19 [==============================] - 0s 9ms/step - loss: 7.7725e-04 - mean_squared_error: 7.7725e-04 - val_loss: 0.0029 - val_mean_squared_error: 0.0029\n",
            "Epoch 72/100\n",
            "19/19 [==============================] - 0s 9ms/step - loss: 0.0018 - mean_squared_error: 0.0018 - val_loss: 0.0026 - val_mean_squared_error: 0.0026\n",
            "Epoch 73/100\n",
            "19/19 [==============================] - 0s 9ms/step - loss: 0.0012 - mean_squared_error: 0.0012 - val_loss: 0.0028 - val_mean_squared_error: 0.0028\n",
            "Epoch 74/100\n",
            "19/19 [==============================] - 0s 9ms/step - loss: 0.0012 - mean_squared_error: 0.0012 - val_loss: 0.0026 - val_mean_squared_error: 0.0026\n",
            "Epoch 75/100\n",
            "19/19 [==============================] - 0s 9ms/step - loss: 0.0014 - mean_squared_error: 0.0014 - val_loss: 0.0028 - val_mean_squared_error: 0.0028\n",
            "Epoch 76/100\n",
            "19/19 [==============================] - 0s 9ms/step - loss: 0.0016 - mean_squared_error: 0.0016 - val_loss: 0.0030 - val_mean_squared_error: 0.0030\n",
            "Epoch 77/100\n",
            "19/19 [==============================] - 0s 9ms/step - loss: 0.0017 - mean_squared_error: 0.0017 - val_loss: 0.0028 - val_mean_squared_error: 0.0028\n",
            "Epoch 78/100\n",
            "19/19 [==============================] - 0s 9ms/step - loss: 0.0013 - mean_squared_error: 0.0013 - val_loss: 0.0028 - val_mean_squared_error: 0.0028\n",
            "Epoch 79/100\n",
            "19/19 [==============================] - 0s 9ms/step - loss: 9.0905e-04 - mean_squared_error: 9.0905e-04 - val_loss: 0.0028 - val_mean_squared_error: 0.0028\n",
            "Epoch 80/100\n",
            "19/19 [==============================] - 0s 9ms/step - loss: 7.7482e-04 - mean_squared_error: 7.7482e-04 - val_loss: 0.0030 - val_mean_squared_error: 0.0030\n",
            "Epoch 81/100\n",
            "19/19 [==============================] - 0s 9ms/step - loss: 0.0015 - mean_squared_error: 0.0015 - val_loss: 0.0029 - val_mean_squared_error: 0.0029\n",
            "Epoch 82/100\n",
            "19/19 [==============================] - 0s 9ms/step - loss: 0.0017 - mean_squared_error: 0.0017 - val_loss: 0.0031 - val_mean_squared_error: 0.0031\n",
            "Epoch 83/100\n",
            "19/19 [==============================] - 0s 9ms/step - loss: 0.0012 - mean_squared_error: 0.0012 - val_loss: 0.0029 - val_mean_squared_error: 0.0029\n",
            "Epoch 84/100\n",
            "19/19 [==============================] - 0s 9ms/step - loss: 0.0012 - mean_squared_error: 0.0012 - val_loss: 0.0027 - val_mean_squared_error: 0.0027\n",
            "Epoch 85/100\n",
            "19/19 [==============================] - 0s 9ms/step - loss: 0.0013 - mean_squared_error: 0.0013 - val_loss: 0.0031 - val_mean_squared_error: 0.0031\n",
            "Epoch 86/100\n",
            "19/19 [==============================] - 0s 9ms/step - loss: 9.6958e-04 - mean_squared_error: 9.6958e-04 - val_loss: 0.0031 - val_mean_squared_error: 0.0031\n",
            "Epoch 87/100\n",
            "19/19 [==============================] - 0s 9ms/step - loss: 0.0014 - mean_squared_error: 0.0014 - val_loss: 0.0029 - val_mean_squared_error: 0.0029\n",
            "Epoch 88/100\n",
            "19/19 [==============================] - 0s 9ms/step - loss: 5.6012e-04 - mean_squared_error: 5.6012e-04 - val_loss: 0.0029 - val_mean_squared_error: 0.0029\n",
            "Epoch 89/100\n",
            "19/19 [==============================] - 0s 9ms/step - loss: 0.0014 - mean_squared_error: 0.0014 - val_loss: 0.0031 - val_mean_squared_error: 0.0031\n",
            "Epoch 90/100\n",
            "19/19 [==============================] - 0s 9ms/step - loss: 0.0014 - mean_squared_error: 0.0014 - val_loss: 0.0027 - val_mean_squared_error: 0.0027\n",
            "Epoch 91/100\n",
            "19/19 [==============================] - 0s 9ms/step - loss: 9.3487e-04 - mean_squared_error: 9.3487e-04 - val_loss: 0.0030 - val_mean_squared_error: 0.0030\n",
            "Epoch 92/100\n",
            "19/19 [==============================] - 0s 9ms/step - loss: 7.2993e-04 - mean_squared_error: 7.2993e-04 - val_loss: 0.0026 - val_mean_squared_error: 0.0026\n",
            "Epoch 93/100\n",
            "19/19 [==============================] - 0s 9ms/step - loss: 0.0015 - mean_squared_error: 0.0015 - val_loss: 0.0029 - val_mean_squared_error: 0.0029\n",
            "Epoch 94/100\n",
            "19/19 [==============================] - 0s 9ms/step - loss: 5.1091e-04 - mean_squared_error: 5.1091e-04 - val_loss: 0.0030 - val_mean_squared_error: 0.0030\n",
            "Epoch 95/100\n",
            "19/19 [==============================] - 0s 10ms/step - loss: 7.4406e-04 - mean_squared_error: 7.4406e-04 - val_loss: 0.0028 - val_mean_squared_error: 0.0028\n",
            "Epoch 96/100\n",
            "19/19 [==============================] - 0s 9ms/step - loss: 9.4578e-04 - mean_squared_error: 9.4578e-04 - val_loss: 0.0027 - val_mean_squared_error: 0.0027\n",
            "Epoch 97/100\n",
            "19/19 [==============================] - 0s 9ms/step - loss: 0.0012 - mean_squared_error: 0.0012 - val_loss: 0.0026 - val_mean_squared_error: 0.0026\n",
            "Epoch 98/100\n",
            "19/19 [==============================] - 0s 9ms/step - loss: 9.2575e-04 - mean_squared_error: 9.2575e-04 - val_loss: 0.0027 - val_mean_squared_error: 0.0027\n",
            "Epoch 99/100\n",
            "19/19 [==============================] - 0s 9ms/step - loss: 8.3759e-04 - mean_squared_error: 8.3759e-04 - val_loss: 0.0027 - val_mean_squared_error: 0.0027\n",
            "Epoch 100/100\n",
            "19/19 [==============================] - 0s 9ms/step - loss: 6.6749e-04 - mean_squared_error: 6.6749e-04 - val_loss: 0.0027 - val_mean_squared_error: 0.0027\n"
          ],
          "name": "stdout"
        }
      ]
    },
    {
      "cell_type": "code",
      "metadata": {
        "colab": {
          "base_uri": "https://localhost:8080/"
        },
        "id": "VctGsgZCv3Rv",
        "outputId": "2c29c54a-08ca-40b1-8894-e53ff7be8fbd"
      },
      "source": [
        "trained_prediction = nn2.predict(X_train)\r\n",
        "test_prediction = nn2.predict(X_test)\r\n",
        "print(\"Training MSE:\", round(mean_squared_error(y_train, trained_prediction),4))\r\n",
        "print(\"Validation MSE:\", round(mean_squared_error(y_test, test_prediction),4))\r\n",
        "print(\"\\nTraining r2:\", round(r2_score(y_train, trained_prediction),4))\r\n",
        "print(\"Validation r2:\", round(r2_score(y_test, test_prediction),4))"
      ],
      "execution_count": 153,
      "outputs": [
        {
          "output_type": "stream",
          "text": [
            "Training MSE: 0.0012\n",
            "Validation MSE: 0.001\n",
            "\n",
            "Training r2: 0.1999\n",
            "Validation r2: 0.043\n"
          ],
          "name": "stdout"
        }
      ]
    }
  ]
}